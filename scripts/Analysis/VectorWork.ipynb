{
 "cells": [
  {
   "cell_type": "code",
   "execution_count": null,
   "metadata": {},
   "outputs": [],
   "source": [
    "import numpy as np\n",
    "import matplotlib.pyplot as plt\n",
    "import pandas as pd\n",
    "import rosbag\n",
    "import rospy\n",
    "# import time\n",
    "# from scipy.signal import savgol_filter\n",
    "# import os\n",
    "# from datetime import datetime\n",
    "%matplotlib notebook"
   ]
  },
  {
   "cell_type": "code",
   "execution_count": null,
   "metadata": {},
   "outputs": [],
   "source": [
    "f_name = 'drive_18Mar_1.bag' ## after fixes on 9MAR\n",
    "bag = rosbag.Bag(f_name)"
   ]
  },
  {
   "cell_type": "code",
   "execution_count": null,
   "metadata": {},
   "outputs": [],
   "source": [
    "mapdtype = np.dtype({\"names\":[\"x\", \"y\", \"z\", \"rosSec\", \"rosNsec\",\"rosSysTme\", \"run_time\", 'msg_time'],\n",
    "                     \"formats\":[np.float32, np.float32, np.float32, np.float32, np.float32, np.float32, np.float32, np.float64]})\n",
    "\n",
    "xpos = []\n",
    "ypos = []\n",
    "zpos = []\n",
    "t_sec = []\n",
    "t_nsec = []\n",
    "msgtme = []\n",
    "ndx = 0\n",
    "for topic, msg, ts in bag.read_messages(topics=['/detector_data', '/trajectory_node_list', '/gx5/imu/data', '/map']):\n",
    "#     print topic\n",
    "    if topic == '/detector_data':\n",
    "        pass\n",
    "    if topic == '/trajectory_node_list':\n",
    "        hold = msg\n",
    "#         print type((ts.to_sec()))\n",
    "#         break\n",
    "        if len(hold.markers[2].points)-ndx != 0:\n",
    "            \n",
    "            for i in range(len(hold.markers[2].points))[ndx:]:\n",
    "                x = hold.markers[2].points[i].x\n",
    "                y = hold.markers[2].points[i].y\n",
    "                z = hold.markers[2].points[i].z\n",
    "                xpos.append(x)\n",
    "                ypos.append(y)\n",
    "                zpos.append(z)\n",
    "                t_sec.append(hold.markers[2].header.stamp.secs)\n",
    "                t_nsec.append(hold.markers[2].header.stamp.nsecs)\n",
    "                msgtme.append(rospy.Time(hold.markers[2].header.stamp.secs, hold.markers[2].header.stamp.nsecs).to_sec())\n",
    "            ndx = len(hold.markers[2].points)\n",
    "        \n",
    "# for i in range(len(hold.markers[2].points)):\n",
    "    \n",
    "#     x = hold.markers[2].points[i].x\n",
    "#     y = hold.markers[2].points[i].y\n",
    "#     z = hold.markers[2].points[i].z\n",
    "#     xpos.append(x)\n",
    "#     ypos.append(y)\n",
    "#     zpos.append(z)\n",
    "\n",
    "s = np.asarray(t_sec)\n",
    "ns = np.asarray(t_nsec)/1e9\n",
    "runtm = s+ns\n",
    "runtm = runtm-runtm[0]\n",
    "\n",
    "path = np.zeros(len(xpos), dtype=mapdtype)\n",
    "path[\"x\"] =xpos\n",
    "path[\"y\"] = ypos\n",
    "path[\"z\"] = zpos\n",
    "path[\"rosSec\"] = s\n",
    "path[\"rosNsec\"] = ns\n",
    "path['rosSysTme'] = s+ns\n",
    "path[\"run_time\"] = runtm\n",
    "path['msg_time'] = msgtme\n",
    "mask = path[\"run_time\"]>0.0\n",
    "path = path[mask]"
   ]
  },
  {
   "cell_type": "code",
   "execution_count": null,
   "metadata": {},
   "outputs": [],
   "source": []
  },
  {
   "cell_type": "code",
   "execution_count": null,
   "metadata": {},
   "outputs": [],
   "source": [
    "path['msg_time'][:20]/1e9"
   ]
  },
  {
   "cell_type": "code",
   "execution_count": null,
   "metadata": {},
   "outputs": [],
   "source": [
    "'''\n",
    "Reads the /radrates topic and returns a numpy structured away with total count rate and time stamp data\n",
    "'''\n",
    "raddtype = np.dtype({\"names\":[\"det1\", \"det2\", \"det3\", \"det4\", \"det5\",'total', \"cr_norm\", \"x\", \"y\", \"rosSec\", \"rosNsec\",'rosSysTme', \"run_time\", \"msg_time\"],\n",
    "                     \"formats\":[np.int16, np.int16, np.int16, np.int16, np.int16, np.int16, np.float32, np.float32, np.float32, np.float32, np.float32, np.float32, np.float32, np.float64]})\n",
    "\n",
    "# bag2 = rosbag.Bag('arraytopic.bag')\n",
    "det1 = []\n",
    "det2 = []\n",
    "det3 = []\n",
    "det4 = []\n",
    "det5 = []\n",
    "total = []\n",
    "rsec = []\n",
    "rnsec = []\n",
    "msg_times = []\n",
    "for topic, msg, ts in bag.read_messages(topics=['/radrates']):\n",
    "    det1.append(msg.cr[0])#np.sum(msg.cr[:3])+msg.cr[4])\n",
    "    det2.append(msg.cr[1])\n",
    "    det3.append(msg.cr[2])\n",
    "    det4.append(msg.cr[3])\n",
    "    det5.append(msg.cr[4])\n",
    "    total.append(msg.cr[5])\n",
    "    rsec.append(msg.header.stamp.secs)\n",
    "    rnsec.append(msg.header.stamp.nsecs)\n",
    "    t = rospy.Time(msg.header.stamp.secs, msg.header.stamp.nsecs).to_sec() #needs to be 64bit\n",
    "    msg_times.append(t)\n",
    "# print det1, total\n",
    "\n",
    "arr = np.asarray(total)\n",
    "normCR = np.divide(arr, arr.max(), dtype=np.float32)\n",
    "\n",
    "rs = np.asarray(rsec)\n",
    "rns = np.asarray(rnsec)/1e9\n",
    "Rruntm = rs+rns\n",
    "Rruntm = Rruntm-Rruntm[0]\n",
    "\n",
    "radmap = np.zeros(len(arr), dtype=raddtype)\n",
    "radmap[\"det1\"] = det1\n",
    "radmap[\"det2\"] = det2\n",
    "radmap[\"det3\"] = det3\n",
    "radmap[\"det4\"] = det4\n",
    "radmap[\"det5\"] = det5\n",
    "radmap[\"total\"] = total # total of counts published every 10Hz\n",
    "radmap['cr_norm'] = normCR\n",
    "# radmap[\"x\"] = ypos\n",
    "# radmap[\"y\"] = zpos\n",
    "radmap[\"rosSec\"] = rs\n",
    "radmap[\"rosNsec\"] = rns\n",
    "radmap['rosSysTme'] = rs+rns\n",
    "radmap[\"run_time\"] =Rruntm\n",
    "radmap['msg_time'] = msg_times"
   ]
  },
  {
   "cell_type": "code",
   "execution_count": null,
   "metadata": {},
   "outputs": [],
   "source": [
    "radmap['msg_time'][2]"
   ]
  },
  {
   "cell_type": "code",
   "execution_count": null,
   "metadata": {},
   "outputs": [],
   "source": [
    "c=0\n",
    "rad_x = []\n",
    "rad_y = []\n",
    "n = 0\n",
    "# for d in radmap[\"run_time\"]:\n",
    "for d in radmap[\"msg_time\"]:\n",
    "    n+=1\n",
    "    if c >=len(path):\n",
    "        rad_x.append(0)\n",
    "        rad_y.append(0)\n",
    "#     elif d < path['run_time'][c]:  \n",
    "    elif d < path['msg_time'][c]:\n",
    "        rad_x.append(0)\n",
    "        rad_y.append(0)\n",
    "    else:\n",
    "        rad_x.append(path['x'][c])\n",
    "        rad_y.append(path['y'][c])\n",
    "        c+=1"
   ]
  },
  {
   "cell_type": "code",
   "execution_count": null,
   "metadata": {},
   "outputs": [],
   "source": []
  },
  {
   "cell_type": "code",
   "execution_count": null,
   "metadata": {},
   "outputs": [],
   "source": [
    "len(rad_x)"
   ]
  },
  {
   "cell_type": "code",
   "execution_count": null,
   "metadata": {},
   "outputs": [],
   "source": [
    "aa = pd.Series(rad_x)\n",
    "bb = pd.Series(rad_y)\n",
    "\n",
    "aa.replace(0.0, np.NaN, inplace=True)\n",
    "bb.replace(0.0, np.NaN, inplace=True)\n",
    "\n",
    "rad_x_full = aa.interpolate()\n",
    "rad_y_full = bb.interpolate()"
   ]
  },
  {
   "cell_type": "code",
   "execution_count": null,
   "metadata": {},
   "outputs": [],
   "source": [
    "# a = np.asarray(rad_x_full)\n",
    "# b = np.asarray(rad_y_full)\n",
    "# a.round(decimals=4)\n",
    "# b.round(decimals=4)\n",
    "\n",
    "# mask = np.zeros(len(rad_x_full), dtype=bool)\n",
    "\n",
    "# radinput = radmap['total'][:]\n",
    "# shift = 0\n",
    "# stitch = np.linspace(0+shift, len(rad_x_full), num=len(rad_x_full), endpoint=False, dtype=int)\n",
    "# mask[stitch] = 1"
   ]
  },
  {
   "cell_type": "code",
   "execution_count": null,
   "metadata": {},
   "outputs": [],
   "source": [
    "len(rad_x_full), len(radmap)"
   ]
  },
  {
   "cell_type": "code",
   "execution_count": null,
   "metadata": {},
   "outputs": [],
   "source": [
    "fig, ax1 = plt.subplots(figsize=(10,6))\n",
    "line, = ax1.plot(-1*rad_y_full, rad_x_full)\n",
    "scat = ax1.scatter(-1*rad_y_full, rad_x_full,  c=radmap['total'], s=(radmap['total']/10)**2.2, cmap='viridis', alpha=.5)\n",
    "# fig.colorbar(scat, ax=ax1)\n",
    "\n",
    "cbar = plt.colorbar(scat)\n",
    "# cbar.ax1.set_yticklabels(['0','1','2','>3'])\n",
    "cbar.set_label('CPS', rotation=0)\n",
    "\n",
    "\n",
    "# ax1.set_xlim(15, -2)\n",
    "plt.title(\"Localization of 20uCi Cs-137 in Hallway\")\n",
    "ax1.set_xlabel(\"X Position\")\n",
    "ax1.set_ylabel(\"Y Position\")\n",
    "# plt.savefig('localization_map.pdf', dpi = 800)\n",
    "plt.show()"
   ]
  },
  {
   "cell_type": "markdown",
   "metadata": {},
   "source": [
    "I need to sync the ros time, the mapping ros time starts before the detectors. With everything starting at once, there is a significant delay between map start and det data publish. Once arrays are made, I need to mask map data before the first detector ros time value. "
   ]
  },
  {
   "cell_type": "code",
   "execution_count": null,
   "metadata": {},
   "outputs": [],
   "source": [
    "radmap[[\"rosSec\", \"rosNsec\",'rosSysTme', \"run_time\"]][:4], path[[\"rosSec\", \"rosNsec\",'rosSysTme', \"run_time\"]][:4]"
   ]
  },
  {
   "cell_type": "code",
   "execution_count": null,
   "metadata": {},
   "outputs": [],
   "source": [
    "radmap[0], path[0]"
   ]
  },
  {
   "cell_type": "code",
   "execution_count": null,
   "metadata": {},
   "outputs": [],
   "source": [
    "plt.plot(path['msg_time'], label=\"route\")\n",
    "plt.plot(radmap[\"msg_time\"], label=\"dets\")\n",
    "plt.legend()\n",
    "plt.show()"
   ]
  },
  {
   "cell_type": "code",
   "execution_count": null,
   "metadata": {},
   "outputs": [],
   "source": [
    "path['msg_time'][:100]"
   ]
  },
  {
   "cell_type": "code",
   "execution_count": null,
   "metadata": {},
   "outputs": [],
   "source": []
  }
 ],
 "metadata": {
  "kernelspec": {
   "display_name": "Python 2",
   "language": "python",
   "name": "python2"
  },
  "language_info": {
   "codemirror_mode": {
    "name": "ipython",
    "version": 2
   },
   "file_extension": ".py",
   "mimetype": "text/x-python",
   "name": "python",
   "nbconvert_exporter": "python",
   "pygments_lexer": "ipython2",
   "version": "2.7.16"
  }
 },
 "nbformat": 4,
 "nbformat_minor": 2
}
