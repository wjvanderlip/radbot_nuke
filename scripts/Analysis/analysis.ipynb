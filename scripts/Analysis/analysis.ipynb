{
 "cells": [
  {
   "cell_type": "code",
   "execution_count": null,
   "metadata": {},
   "outputs": [],
   "source": [
    "import numpy as np\n",
    "import matplotlib.pyplot as plt\n",
    "import pandas as pd\n",
    "import rosbag\n",
    "import rospy\n",
    "%matplotlib notebook"
   ]
  },
  {
   "cell_type": "code",
   "execution_count": null,
   "metadata": {},
   "outputs": [],
   "source": [
    "bag = rosbag.Bag('../bag1.bag')"
   ]
  },
  {
   "cell_type": "code",
   "execution_count": null,
   "metadata": {},
   "outputs": [],
   "source": [
    "bag.read_messages?"
   ]
  },
  {
   "cell_type": "code",
   "execution_count": null,
   "metadata": {},
   "outputs": [],
   "source": [
    "sns = ['eRC4129', 'eRC4130', 'eRC4131']\n",
    "\n",
    "e29 = []\n",
    "e30 = []\n",
    "e31 = []\n",
    "for topic, msg, ts in bag.read_messages(topics='/detector_data'):\n",
    "    if msg.det_sn.data == sns[0]:\n",
    "        for i in msg.channel:\n",
    "            e29.append(i)\n",
    "    elif msg.det_sn.data == sns[1]:\n",
    "        for i in msg.channel:\n",
    "            e30.append(i)\n",
    "    elif msg.det_sn.data == sns[2]:\n",
    "        for i in msg.channel:\n",
    "            e31.append(i)\n",
    "all_ch = [e29, e30, e31]"
   ]
  },
  {
   "cell_type": "code",
   "execution_count": null,
   "metadata": {},
   "outputs": [],
   "source": [
    "for c in range(len(all_ch)):\n",
    "    hist, bins = np.histogram(all_ch[c], bins=2048)\n",
    "    plt.semilogy(hist, label=sns[c])\n",
    "plt.legend()\n",
    "plt.show()"
   ]
  },
  {
   "cell_type": "code",
   "execution_count": null,
   "metadata": {},
   "outputs": [],
   "source": []
  },
  {
   "cell_type": "code",
   "execution_count": null,
   "metadata": {},
   "outputs": [],
   "source": []
  }
 ],
 "metadata": {
  "kernelspec": {
   "display_name": "Python 2",
   "language": "python",
   "name": "python2"
  },
  "language_info": {
   "codemirror_mode": {
    "name": "ipython",
    "version": 2
   },
   "file_extension": ".py",
   "mimetype": "text/x-python",
   "name": "python",
   "nbconvert_exporter": "python",
   "pygments_lexer": "ipython2",
   "version": "2.7.16"
  }
 },
 "nbformat": 4,
 "nbformat_minor": 2
}
